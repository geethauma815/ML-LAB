{
  "cells": [
    {
      "cell_type": "code",
      "source": [
        "#32. Subset by columns TransactionID and TransactionDate with logical operator\n"
      ],
      "metadata": {
        "id": "ZSPDRU6r7jJR"
      },
      "execution_count": null,
      "outputs": []
    },
    {
      "cell_type": "code",
      "execution_count": 3,
      "metadata": {
        "colab": {
          "base_uri": "https://localhost:8080/"
        },
        "id": "78P2vrgOZ3yX",
        "outputId": "531916ac-88ae-49f0-96f3-ad8ee65a5755"
      },
      "outputs": [
        {
          "output_type": "stream",
          "name": "stdout",
          "text": [
            "   TransactionID TransactionDate  UserID  ProductID  Quantity\n",
            "0              1      2010-08-21     7.0          2         1\n",
            "1              2      2011-05-26     3.0          4         1\n",
            "2              3      2011-06-16     3.0          3         1\n",
            "3              4      2012-08-26     1.0          2         3\n",
            "4              5      2013-06-06     2.0          4         1\n",
            "5              6      2013-12-23     2.0          5         6\n",
            "6              7      2013-12-30     3.0          4         1\n",
            "7              8      2014-04-24     NaN          2         3\n",
            "8              9      2015-04-24     7.0          4         3\n",
            "9             10      2016-05-08     3.0          4         4\n"
          ]
        }
      ],
      "source": [
        "import pandas as pd\n",
        "df=pd.read_csv(\"/content/transactions.csv\")\n",
        "print(df)"
      ]
    },
    {
      "cell_type": "code",
      "execution_count": null,
      "metadata": {
        "id": "e2-DRtPmZ3yZ",
        "outputId": "8cc36707-630c-4b09-e659-5a27ecfee4dd"
      },
      "outputs": [
        {
          "name": "stdout",
          "output_type": "stream",
          "text": [
            "       TransactionID    UserID  ProductID   Quantity\n",
            "count       10.00000  9.000000  10.000000  10.000000\n",
            "mean         5.50000  3.444444   3.400000   2.400000\n",
            "std          3.02765  2.127858   1.074968   1.712698\n",
            "min          1.00000  1.000000   2.000000   1.000000\n",
            "25%          3.25000  2.000000   2.250000   1.000000\n",
            "50%          5.50000  3.000000   4.000000   2.000000\n",
            "75%          7.75000  3.000000   4.000000   3.000000\n",
            "max         10.00000  7.000000   5.000000   6.000000\n"
          ]
        }
      ],
      "source": [
        "import pandas as pd\n",
        "df=pd.read_csv(\"transactions.csv\")\n",
        "# 1. Print Summary of transaction data set\n",
        "print(df.describe())"
      ]
    },
    {
      "cell_type": "code",
      "execution_count": null,
      "metadata": {
        "id": "GelL9EMJZ3yZ",
        "outputId": "1ce9b811-458d-4ca5-bea6-ffe26ada9198"
      },
      "outputs": [
        {
          "name": "stdout",
          "output_type": "stream",
          "text": [
            "0    7.0\n",
            "1    3.0\n",
            "2    3.0\n",
            "3    1.0\n",
            "4    2.0\n",
            "5    2.0\n",
            "6    3.0\n",
            "7    NaN\n",
            "8    7.0\n",
            "9    3.0\n",
            "Name: UserID, dtype: float64\n"
          ]
        }
      ],
      "source": [
        "#2. Print Numbers of Attributes\n",
        "print(df['UserID'])\n"
      ]
    },
    {
      "cell_type": "code",
      "execution_count": null,
      "metadata": {
        "id": "iKq8VuSFZ3yZ",
        "outputId": "b9e3c2fd-3c5d-4ac0-ca12-953cfb099d36"
      },
      "outputs": [
        {
          "name": "stdout",
          "output_type": "stream",
          "text": [
            "   TransactionID TransactionDate  UserID  ProductID  Quantity\n",
            "0              1      2010-08-21     7.0          2         1\n",
            "1              2      2011-05-26     3.0          4         1\n",
            "2              3      2011-06-16     3.0          3         1\n",
            "3              4      2012-08-26     1.0          2         3\n",
            "4              5      2013-06-06     2.0          4         1\n",
            "5              6      2013-12-23     2.0          5         6\n",
            "6              7      2013-12-30     3.0          4         1\n",
            "7              8      2014-04-24     NaN          2         3\n",
            "8              9      2015-04-24     7.0          4         3\n",
            "9             10      2016-05-08     3.0          4         4\n"
          ]
        }
      ],
      "source": [
        "# 3. Print Numbers of Records\n",
        "print(df.head(10))"
      ]
    },
    {
      "cell_type": "code",
      "execution_count": null,
      "metadata": {
        "id": "qK_Odju8Z3ya",
        "outputId": "c724d4ae-e65b-4d76-f975-8d9eabd8378f"
      },
      "outputs": [
        {
          "name": "stdout",
          "output_type": "stream",
          "text": [
            "Index(['TransactionID', 'TransactionDate', 'UserID', 'ProductID', 'Quantity'], dtype='object')\n"
          ]
        }
      ],
      "source": [
        "#4. Get the row names\n",
        "print(df.columns)"
      ]
    },
    {
      "cell_type": "code",
      "execution_count": null,
      "metadata": {
        "id": "vJP682fNZ3ya",
        "outputId": "227f2c1d-e00f-47f1-dbcd-171c6960230f"
      },
      "outputs": [
        {
          "name": "stdout",
          "output_type": "stream",
          "text": [
            "[[1 '2010-08-21' 7.0 2 1]\n",
            " [2 '2011-05-26' 3.0 4 1]\n",
            " [3 '2011-06-16' 3.0 3 1]\n",
            " [4 '2012-08-26' 1.0 2 3]\n",
            " [5 '2013-06-06' 2.0 4 1]\n",
            " [6 '2013-12-23' 2.0 5 6]\n",
            " [7 '2013-12-30' 3.0 4 1]\n",
            " [8 '2014-04-24' nan 2 3]\n",
            " [9 '2015-04-24' 7.0 4 3]\n",
            " [10 '2016-05-08' 3.0 4 4]]\n"
          ]
        }
      ],
      "source": [
        "print(df.values)"
      ]
    },
    {
      "cell_type": "code",
      "execution_count": null,
      "metadata": {
        "id": "3h8-Ib13Z3ya",
        "outputId": "c9b78496-4864-4754-c367-4af283efef83"
      },
      "outputs": [
        {
          "name": "stdout",
          "output_type": "stream",
          "text": [
            "   TransactionID TransactionDate  UserID  ProductID  Quantity\n",
            "0              1      2010-08-21     7.0          2         1\n",
            "1              2      2011-05-26     3.0          4         1\n",
            "2              3      2011-06-16     3.0          3         1\n",
            "3              4      2012-08-26     1.0          2         3\n",
            "4              5      2013-06-06     2.0          4         1\n",
            "5              6      2013-12-23     2.0          5         6\n",
            "6              7      2013-12-30     3.0          4         1\n",
            "7              8      2014-04-24     NaN          2         3\n",
            "8              9      2015-04-24     7.0          4         3\n",
            "9             10      2016-05-08     3.0          4         4\n"
          ]
        }
      ],
      "source": [
        "print(df.head(10))"
      ]
    },
    {
      "cell_type": "code",
      "execution_count": null,
      "metadata": {
        "id": "v-3UDo9iZ3ya",
        "outputId": "0eff584d-665c-4055-d61d-00631f384ed9"
      },
      "outputs": [
        {
          "name": "stdout",
          "output_type": "stream",
          "text": [
            "   TransactionID TransactionDate  UserID  ProductID  Quant\n",
            "0              1      2010-08-21     7.0          2      1\n",
            "1              2      2011-05-26     3.0          4      1\n",
            "2              3      2011-06-16     3.0          3      1\n",
            "3              4      2012-08-26     1.0          2      3\n",
            "4              5      2013-06-06     2.0          4      1\n",
            "5              6      2013-12-23     2.0          5      6\n",
            "6              7      2013-12-30     3.0          4      1\n",
            "7              8      2014-04-24     NaN          2      3\n",
            "8              9      2015-04-24     7.0          4      3\n",
            "9             10      2016-05-08     3.0          4      4\n"
          ]
        }
      ],
      "source": [
        "df.rename(columns={\"Quantity\": \"Quant\"}, inplace=True)\n",
        "print(df)"
      ]
    },
    {
      "cell_type": "code",
      "execution_count": null,
      "metadata": {
        "id": "6AQMepLpZ3yb",
        "outputId": "9d09a1ce-2018-47a7-d937-f85e32dd6de1"
      },
      "outputs": [
        {
          "name": "stdout",
          "output_type": "stream",
          "text": [
            "   TransactionID TransactionDate  UID  PID  Quant\n",
            "0              1      2010-08-21  7.0    2      1\n",
            "1              2      2011-05-26  3.0    4      1\n",
            "2              3      2011-06-16  3.0    3      1\n",
            "3              4      2012-08-26  1.0    2      3\n",
            "4              5      2013-06-06  2.0    4      1\n",
            "5              6      2013-12-23  2.0    5      6\n",
            "6              7      2013-12-30  3.0    4      1\n",
            "7              8      2014-04-24  NaN    2      3\n",
            "8              9      2015-04-24  7.0    4      3\n",
            "9             10      2016-05-08  3.0    4      4\n"
          ]
        }
      ],
      "source": [
        "#8.Change the name of columns ProductID and UserID to PID and UID respectively\n",
        "df.rename(columns={\"p\":\"PID\",\"u\":\"UID\"},inplace=True)\n",
        "print(df)\n"
      ]
    },
    {
      "cell_type": "code",
      "execution_count": null,
      "metadata": {
        "id": "S3dLB8hRZ3yb",
        "outputId": "7ae77998-9c53-4508-f2e1-a54a9654a5c4"
      },
      "outputs": [
        {
          "name": "stdout",
          "output_type": "stream",
          "text": [
            "   TransactionID TransactionDate  UID  PID  Quant\n",
            "9             10      2016-05-08  3.0    4      4\n",
            "8              9      2015-04-24  7.0    4      3\n",
            "7              8      2014-04-24  NaN    2      3\n",
            "6              7      2013-12-30  3.0    4      1\n",
            "5              6      2013-12-23  2.0    5      6\n",
            "4              5      2013-06-06  2.0    4      1\n",
            "3              4      2012-08-26  1.0    2      3\n",
            "2              3      2011-06-16  3.0    3      1\n",
            "1              2      2011-05-26  3.0    4      1\n",
            "0              1      2010-08-21  7.0    2      1\n"
          ]
        }
      ],
      "source": [
        "#9. Order the rows of transactions by TransactionId descending, if ascending then ascending=True\n",
        "df_sorted = df.sort_values(by=\"TransactionID\", ascending=False)\n",
        "print(df_sorted.head(10))"
      ]
    },
    {
      "cell_type": "code",
      "execution_count": null,
      "metadata": {
        "id": "xxsfhOocZ3yb",
        "outputId": "382a9ec3-e367-48b0-c0b6-793243533b9e"
      },
      "outputs": [
        {
          "name": "stdout",
          "output_type": "stream",
          "text": [
            "   TransactionID TransactionDate  UID  PID  Quant\n",
            "0              1      2010-08-21  7.0    2      1\n",
            "1              2      2011-05-26  3.0    4      1\n",
            "2              3      2011-06-16  3.0    3      1\n",
            "3              4      2012-08-26  1.0    2      3\n",
            "4              5      2013-06-06  2.0    4      1\n",
            "5              6      2013-12-23  2.0    5      6\n",
            "6              7      2013-12-30  3.0    4      1\n",
            "7              8      2014-04-24  NaN    2      3\n",
            "8              9      2015-04-24  7.0    4      3\n",
            "9             10      2016-05-08  3.0    4      4\n"
          ]
        }
      ],
      "source": [
        "df_sorted = df.sort_values(by=\"TransactionID\", ascending=True)\n",
        "print(df_sorted.head(10))"
      ]
    },
    {
      "cell_type": "code",
      "execution_count": null,
      "metadata": {
        "id": "1cVOmc0CZ3yb",
        "outputId": "0745ae96-bc13-4870-8afb-6e8d3b9dc539"
      },
      "outputs": [
        {
          "name": "stdout",
          "output_type": "stream",
          "text": [
            "   TransactionID TransactionDate  UserID  ProductID  Quantity\n",
            "6              7      2013-12-30     3.0          4         1\n",
            "4              5      2013-06-06     2.0          4         1\n",
            "2              3      2011-06-16     3.0          3         1\n",
            "1              2      2011-05-26     3.0          4         1\n",
            "0              1      2010-08-21     7.0          2         1\n",
            "8              9      2015-04-24     7.0          4         3\n",
            "7              8      2014-04-24     NaN          2         3\n",
            "3              4      2012-08-26     1.0          2         3\n",
            "9             10      2016-05-08     3.0          4         4\n",
            "5              6      2013-12-23     2.0          5         6\n"
          ]
        }
      ],
      "source": [
        "#10. Order the rows of transactions by Quantity ascending, TransactionDate descending\n",
        "import pandas as pd\n",
        "df=pd.read_csv(\"transactions.csv\")\n",
        "df_sorted=df.sort_values(by=[\"Quantity\",\"TransactionDate\"],ascending=[True,False] )\n",
        "print(df_sorted.head(10))"
      ]
    },
    {
      "cell_type": "code",
      "execution_count": null,
      "metadata": {
        "id": "HxWLsnf_Z3yc",
        "outputId": "bb37b4e1-b972-47ec-bb03-729480e4d64e"
      },
      "outputs": [
        {
          "name": "stdout",
          "output_type": "stream",
          "text": [
            "   ProductID  Quantity TransactionDate  TransactionID  UserID\n",
            "0          2         1      2010-08-21              1     7.0\n",
            "1          4         1      2011-05-26              2     3.0\n",
            "2          3         1      2011-06-16              3     3.0\n",
            "3          2         3      2012-08-26              4     1.0\n",
            "4          4         1      2013-06-06              5     2.0\n",
            "5          5         6      2013-12-23              6     2.0\n",
            "6          4         1      2013-12-30              7     3.0\n",
            "7          2         3      2014-04-24              8     NaN\n",
            "8          4         3      2015-04-24              9     7.0\n",
            "9          4         4      2016-05-08             10     3.0\n"
          ]
        }
      ],
      "source": [
        "#11. Set the column order of Transactions as ProductID,Quantity, TransactionDate, TransactionID, UserID\n",
        "df=df[['ProductID','Quantity','TransactionDate','TransactionID','UserID']]\n",
        "print(df)\n"
      ]
    },
    {
      "cell_type": "code",
      "execution_count": null,
      "metadata": {
        "id": "LfPk0tHcZ3yc",
        "outputId": "a7a2355c-1388-4fc7-82a3-36201a936420"
      },
      "outputs": [
        {
          "name": "stdout",
          "output_type": "stream",
          "text": [
            "   UserID  ProductID  Quantity TransactionDate  TransactionID\n",
            "0     7.0          2         1      2010-08-21              1\n",
            "1     3.0          4         1      2011-05-26              2\n",
            "2     3.0          3         1      2011-06-16              3\n",
            "3     1.0          2         3      2012-08-26              4\n",
            "4     2.0          4         1      2013-06-06              5\n",
            "5     2.0          5         6      2013-12-23              6\n",
            "6     3.0          4         1      2013-12-30              7\n",
            "7     NaN          2         3      2014-04-24              8\n",
            "8     7.0          4         3      2015-04-24              9\n",
            "9     3.0          4         4      2016-05-08             10\n"
          ]
        }
      ],
      "source": [
        "#12. Make UserID the first column of transactions\n",
        "df=df[['UserID','ProductID','Quantity','TransactionDate','TransactionID']]\n",
        "print(df)\n"
      ]
    },
    {
      "cell_type": "code",
      "execution_count": null,
      "metadata": {
        "id": "1WT5GlQHZ3yc",
        "outputId": "f2d7f14e-2cda-483d-8623-c939033e1ec6"
      },
      "outputs": [
        {
          "name": "stdout",
          "output_type": "stream",
          "text": [
            "[2 4 3 2 4 5 4 2 4 4]\n"
          ]
        }
      ],
      "source": [
        "#13. Extracting arrays from a Data Frame. Get the 2nd column\n",
        "print(df.iloc[:, 1].values)"
      ]
    },
    {
      "cell_type": "code",
      "execution_count": null,
      "metadata": {
        "id": "CY1zCsidZ3yc",
        "outputId": "1b26bbd3-0c11-4c48-ae90-1828a336a312"
      },
      "outputs": [
        {
          "name": "stdout",
          "output_type": "stream",
          "text": [
            "[ 7.  3.  3.  1.  2.  2.  3. nan  7.  3.]\n"
          ]
        }
      ],
      "source": [
        "#14 Get the ProductID Array\n",
        "print(df.iloc[:,2].values)"
      ]
    },
    {
      "cell_type": "code",
      "source": [
        "#15 question is not correctly specified"
      ],
      "metadata": {
        "id": "BFed9pZdZ6Oj"
      },
      "execution_count": null,
      "outputs": []
    },
    {
      "cell_type": "code",
      "source": [
        "#16.Row subsetting, subset rows 1,3 and 6\n",
        "subset_rows = df.iloc[[1, 3, 6]]  # Select rows by index\n",
        "print(subset_rows)\n"
      ],
      "metadata": {
        "colab": {
          "base_uri": "https://localhost:8080/"
        },
        "id": "BHPzs8w9aQ-T",
        "outputId": "c7a3666c-e2ed-40a8-d271-c6f95e572a70"
      },
      "execution_count": null,
      "outputs": [
        {
          "output_type": "stream",
          "name": "stdout",
          "text": [
            "   TransactionID TransactionDate  UserID  ProductID  Quantity\n",
            "1              2      2011-05-26     3.0          4         1\n",
            "3              4      2012-08-26     1.0          2         3\n",
            "6              7      2013-12-30     3.0          4         1\n"
          ]
        }
      ]
    },
    {
      "cell_type": "code",
      "source": [
        "#17.subset rows excluding 1,3 and 6\n",
        "subset_rows = df.drop(index=[1, 3, 6])  # Drops rows at index 1, 3, and 6\n",
        "print(subset_rows)\n",
        "\n",
        "\n"
      ],
      "metadata": {
        "colab": {
          "base_uri": "https://localhost:8080/"
        },
        "id": "E051sArccPWz",
        "outputId": "7fb4ebd1-1a02-43e1-dc39-6d62940e1fd4"
      },
      "execution_count": null,
      "outputs": [
        {
          "output_type": "stream",
          "name": "stdout",
          "text": [
            "   TransactionID TransactionDate  UserID  ProductID  Quantity\n",
            "0              1      2010-08-21     7.0          2         1\n",
            "2              3      2011-06-16     3.0          3         1\n",
            "4              5      2013-06-06     2.0          4         1\n",
            "5              6      2013-12-23     2.0          5         6\n",
            "7              8      2014-04-24     NaN          2         3\n",
            "8              9      2015-04-24     7.0          4         3\n",
            "9             10      2016-05-08     3.0          4         4\n"
          ]
        }
      ]
    },
    {
      "cell_type": "code",
      "source": [
        "#18. Subset the first three rows\n",
        "subset_rows=df.iloc[:3]\n",
        "print(subset_rows)\n"
      ],
      "metadata": {
        "colab": {
          "base_uri": "https://localhost:8080/"
        },
        "id": "3IhlXGxBczoN",
        "outputId": "a3ee7940-ff8b-4f74-b0e6-9749a2e1a01c"
      },
      "execution_count": null,
      "outputs": [
        {
          "output_type": "stream",
          "name": "stdout",
          "text": [
            "   TransactionID TransactionDate  UserID  ProductID  Quantity\n",
            "0              1      2010-08-21     7.0          2         1\n",
            "1              2      2011-05-26     3.0          4         1\n",
            "2              3      2011-06-16     3.0          3         1\n"
          ]
        }
      ]
    },
    {
      "cell_type": "code",
      "source": [
        "#19. Subset the last 2 rows\n",
        "subset_rows=df.iloc[-3:]\n",
        "print(subset_rows)"
      ],
      "metadata": {
        "colab": {
          "base_uri": "https://localhost:8080/"
        },
        "id": "mCe_pUIzdNeQ",
        "outputId": "696c8589-9c8d-4889-bed3-6d48e5472640"
      },
      "execution_count": null,
      "outputs": [
        {
          "output_type": "stream",
          "name": "stdout",
          "text": [
            "   TransactionID TransactionDate  UserID  ProductID  Quantity\n",
            "7              8      2014-04-24     NaN          2         3\n",
            "8              9      2015-04-24     7.0          4         3\n",
            "9             10      2016-05-08     3.0          4         4\n"
          ]
        }
      ]
    },
    {
      "cell_type": "code",
      "source": [
        "#20. Subset rows excluding the last 2 rows\n",
        "subset_rows=df.iloc[:-2]\n",
        "print(subset_rows)"
      ],
      "metadata": {
        "colab": {
          "base_uri": "https://localhost:8080/"
        },
        "id": "xg4hz8ladkn3",
        "outputId": "60daa304-146e-422b-c9ad-2d24d33555e8"
      },
      "execution_count": null,
      "outputs": [
        {
          "output_type": "stream",
          "name": "stdout",
          "text": [
            "   TransactionID TransactionDate  UserID  ProductID  Quantity\n",
            "0              1      2010-08-21     7.0          2         1\n",
            "1              2      2011-05-26     3.0          4         1\n",
            "2              3      2011-06-16     3.0          3         1\n",
            "3              4      2012-08-26     1.0          2         3\n",
            "4              5      2013-06-06     2.0          4         1\n",
            "5              6      2013-12-23     2.0          5         6\n",
            "6              7      2013-12-30     3.0          4         1\n",
            "7              8      2014-04-24     NaN          2         3\n"
          ]
        }
      ]
    },
    {
      "cell_type": "code",
      "source": [
        "#21. Subset rows excluding the first 3 rows\n",
        "subset_rows=df.iloc[3:]\n",
        "print(subset_rows)"
      ],
      "metadata": {
        "colab": {
          "base_uri": "https://localhost:8080/"
        },
        "id": "fAYT9Iuod6FR",
        "outputId": "08f9b650-6967-47f0-de20-4c55c6d70894"
      },
      "execution_count": null,
      "outputs": [
        {
          "output_type": "stream",
          "name": "stdout",
          "text": [
            "   TransactionID TransactionDate  UserID  ProductID  Quantity\n",
            "3              4      2012-08-26     1.0          2         3\n",
            "4              5      2013-06-06     2.0          4         1\n",
            "5              6      2013-12-23     2.0          5         6\n",
            "6              7      2013-12-30     3.0          4         1\n",
            "7              8      2014-04-24     NaN          2         3\n",
            "8              9      2015-04-24     7.0          4         3\n",
            "9             10      2016-05-08     3.0          4         4\n"
          ]
        }
      ]
    },
    {
      "cell_type": "code",
      "source": [
        "#22. Subset rows where Quantity>1\n",
        "subset_rows=df[df['Quantity']>1]\n",
        "print(subset_rows)"
      ],
      "metadata": {
        "colab": {
          "base_uri": "https://localhost:8080/"
        },
        "id": "wDOFdfgoeLex",
        "outputId": "d226671d-4e4c-476f-b51d-5446ba0c7da6"
      },
      "execution_count": null,
      "outputs": [
        {
          "output_type": "stream",
          "name": "stdout",
          "text": [
            "   TransactionID TransactionDate  UserID  ProductID  Quantity\n",
            "3              4      2012-08-26     1.0          2         3\n",
            "5              6      2013-12-23     2.0          5         6\n",
            "7              8      2014-04-24     NaN          2         3\n",
            "8              9      2015-04-24     7.0          4         3\n",
            "9             10      2016-05-08     3.0          4         4\n"
          ]
        }
      ]
    },
    {
      "cell_type": "code",
      "source": [
        "#23. Subset rows where UserID=2\n",
        "subset_rows = df[df['UserID'] == 2]  # Ensures filtering of float values\n",
        "print(subset_rows)"
      ],
      "metadata": {
        "colab": {
          "base_uri": "https://localhost:8080/"
        },
        "id": "hsCVghInetlu",
        "outputId": "3bf3e9e8-232a-4b79-8929-1abab84cf31b"
      },
      "execution_count": null,
      "outputs": [
        {
          "output_type": "stream",
          "name": "stdout",
          "text": [
            "   TransactionID TransactionDate  UserID  ProductID  Quantity\n",
            "4              5      2013-06-06     2.0          4         1\n",
            "5              6      2013-12-23     2.0          5         6\n"
          ]
        }
      ]
    },
    {
      "cell_type": "code",
      "source": [
        "#24. Subset rows where Quantity>1 and UserID=2\n",
        "subset_rows=df[(df['Quantity'] > 1) & (df['UserID'] == 2)]\n",
        "print(subset_rows)"
      ],
      "metadata": {
        "colab": {
          "base_uri": "https://localhost:8080/"
        },
        "id": "jIx9tkzXfjpe",
        "outputId": "d4ecc70e-5312-49dc-f19e-a18e22f8628e"
      },
      "execution_count": null,
      "outputs": [
        {
          "output_type": "stream",
          "name": "stdout",
          "text": [
            "   TransactionID TransactionDate  UserID  ProductID  Quantity\n",
            "5              6      2013-12-23     2.0          5         6\n"
          ]
        }
      ]
    },
    {
      "cell_type": "code",
      "source": [
        "#25. Subset rows where Quantity + UserID is >3\n",
        "subset_rows=df[(df['Quantity'] + df['UserID']) > 3]\n",
        "print(subset_rows)"
      ],
      "metadata": {
        "colab": {
          "base_uri": "https://localhost:8080/"
        },
        "id": "6Enbc75bhFPj",
        "outputId": "e8ccc21e-c6e3-4cac-8741-04aefe1fa5b1"
      },
      "execution_count": null,
      "outputs": [
        {
          "output_type": "stream",
          "name": "stdout",
          "text": [
            "   TransactionID TransactionDate  UserID  ProductID  Quantity\n",
            "0              1      2010-08-21     7.0          2         1\n",
            "1              2      2011-05-26     3.0          4         1\n",
            "2              3      2011-06-16     3.0          3         1\n",
            "3              4      2012-08-26     1.0          2         3\n",
            "5              6      2013-12-23     2.0          5         6\n",
            "6              7      2013-12-30     3.0          4         1\n",
            "8              9      2015-04-24     7.0          4         3\n",
            "9             10      2016-05-08     3.0          4         4\n"
          ]
        }
      ]
    },
    {
      "cell_type": "code",
      "source": [
        "#26. Subset rows where an external array, foo, is True\n",
        "foo = [False, False, True, False,True, False, True, False,True, False] # Example of a boolean array\n",
        "subset_rows = df[foo]\n",
        "print(subset_rows)"
      ],
      "metadata": {
        "colab": {
          "base_uri": "https://localhost:8080/"
        },
        "id": "rGI3uRlYhkWy",
        "outputId": "e37bd1d6-eeb3-4c61-d2e4-6e7f0b6ba380"
      },
      "execution_count": null,
      "outputs": [
        {
          "output_type": "stream",
          "name": "stdout",
          "text": [
            "   TransactionID TransactionDate  UserID  ProductID  Quantity\n",
            "2              3      2011-06-16     3.0          3         1\n",
            "4              5      2013-06-06     2.0          4         1\n",
            "6              7      2013-12-30     3.0          4         1\n",
            "8              9      2015-04-24     7.0          4         3\n"
          ]
        }
      ]
    },
    {
      "cell_type": "code",
      "source": [
        "#27. Subset rows where an external array, bar, is positive\n",
        "import numpy as np\n",
        "bar = np.array([5, -3, 8, 0, 2, 1, 7, 8, 9, 3])\n",
        "\n",
        "# Subset rows where bar is positive (> 0)\n",
        "subset_rows = df[bar > 0]\n",
        "\n",
        "# Print the result\n",
        "print(subset_rows)"
      ],
      "metadata": {
        "colab": {
          "base_uri": "https://localhost:8080/"
        },
        "id": "_6FKULF6j2oE",
        "outputId": "44a84f5f-3d7c-4f0a-c1ec-394fdf697ac5"
      },
      "execution_count": null,
      "outputs": [
        {
          "output_type": "stream",
          "name": "stdout",
          "text": [
            "   TransactionID TransactionDate  UserID  ProductID  Quantity\n",
            "0              1      2010-08-21     7.0          2         1\n",
            "2              3      2011-06-16     3.0          3         1\n",
            "4              5      2013-06-06     2.0          4         1\n",
            "5              6      2013-12-23     2.0          5         6\n",
            "6              7      2013-12-30     3.0          4         1\n",
            "7              8      2014-04-24     NaN          2         3\n",
            "8              9      2015-04-24     7.0          4         3\n",
            "9             10      2016-05-08     3.0          4         4\n"
          ]
        }
      ]
    },
    {
      "cell_type": "code",
      "source": [
        "#28. Subset rows where foo is TRUE or bar is negative\n",
        "import numpy as np\n",
        "bar = np.array([5, -3, 8, 0, 2, 1, 7, 8, 9, 3])\n",
        "foo = [False, False, True, False,True, False, True, False,True, False]\n",
        "subset_rows = df[(bar>0) | foo]\n",
        "print(subset_rows)\n"
      ],
      "metadata": {
        "colab": {
          "base_uri": "https://localhost:8080/"
        },
        "id": "5SpQ1xtAk1oI",
        "outputId": "83afda96-025e-4ff9-d132-4a0e65c7325d"
      },
      "execution_count": null,
      "outputs": [
        {
          "output_type": "stream",
          "name": "stdout",
          "text": [
            "   TransactionID TransactionDate  UserID  ProductID  Quantity\n",
            "0              1      2010-08-21     7.0          2         1\n",
            "2              3      2011-06-16     3.0          3         1\n",
            "4              5      2013-06-06     2.0          4         1\n",
            "5              6      2013-12-23     2.0          5         6\n",
            "6              7      2013-12-30     3.0          4         1\n",
            "7              8      2014-04-24     NaN          2         3\n",
            "8              9      2015-04-24     7.0          4         3\n",
            "9             10      2016-05-08     3.0          4         4\n"
          ]
        }
      ]
    },
    {
      "cell_type": "code",
      "source": [
        "#29. Subset the rows where foo is not TRUE and bar is not negative\n",
        "import numpy as np\n",
        "bar = np.array([5, -3, 8, 0, 2, 1, 7, 8, 9, 3])\n",
        "foo = [False, False, True, False,True, False, True, False,True, False]\n",
        "subset_rows = df[(bar>0) & ~np.array(foo)]\n",
        "print(subset_rows)"
      ],
      "metadata": {
        "colab": {
          "base_uri": "https://localhost:8080/"
        },
        "id": "83-jdXCgmAp4",
        "outputId": "769e26df-2a69-446d-e9cb-f4f5f0b89655"
      },
      "execution_count": 4,
      "outputs": [
        {
          "output_type": "stream",
          "name": "stdout",
          "text": [
            "   TransactionID TransactionDate  UserID  ProductID  Quantity\n",
            "0              1      2010-08-21     7.0          2         1\n",
            "5              6      2013-12-23     2.0          5         6\n",
            "7              8      2014-04-24     NaN          2         3\n",
            "9             10      2016-05-08     3.0          4         4\n"
          ]
        }
      ]
    },
    {
      "cell_type": "code",
      "source": [
        "#30. Subset by columns 1 and 3\n",
        "subset_columns = df.iloc[:,[1, 3]]  # Select rows by index\n",
        "print(subset_columns)\n"
      ],
      "metadata": {
        "colab": {
          "base_uri": "https://localhost:8080/"
        },
        "id": "NOPk1IU-49k9",
        "outputId": "9e89972c-557b-4028-c568-ec924e45b017"
      },
      "execution_count": 5,
      "outputs": [
        {
          "output_type": "stream",
          "name": "stdout",
          "text": [
            "  TransactionDate  ProductID\n",
            "0      2010-08-21          2\n",
            "1      2011-05-26          4\n",
            "2      2011-06-16          3\n",
            "3      2012-08-26          2\n",
            "4      2013-06-06          4\n",
            "5      2013-12-23          5\n",
            "6      2013-12-30          4\n",
            "7      2014-04-24          2\n",
            "8      2015-04-24          4\n",
            "9      2016-05-08          4\n"
          ]
        }
      ]
    },
    {
      "cell_type": "code",
      "source": [
        "#31. Subset by columns TransactionID and TransactionDate\n",
        "subset_columns=df[['TransactionID', 'TransactionDate']]\n",
        "print(subset_columns)\n",
        "\n"
      ],
      "metadata": {
        "colab": {
          "base_uri": "https://localhost:8080/"
        },
        "id": "wrvGj2Mj5hvd",
        "outputId": "ee1253f9-6708-4ee4-ca3d-c4c5fc5c299d"
      },
      "execution_count": 8,
      "outputs": [
        {
          "output_type": "stream",
          "name": "stdout",
          "text": [
            "   TransactionID TransactionDate\n",
            "0              1      2010-08-21\n",
            "1              2      2011-05-26\n",
            "2              3      2011-06-16\n",
            "3              4      2012-08-26\n",
            "4              5      2013-06-06\n",
            "5              6      2013-12-23\n",
            "6              7      2013-12-30\n",
            "7              8      2014-04-24\n",
            "8              9      2015-04-24\n",
            "9             10      2016-05-08\n"
          ]
        }
      ]
    },
    {
      "cell_type": "code",
      "source": [
        "#32. Subset by columns TransactionID and TransactionDate with logical operator\n",
        "subset_columns = df.loc[:, df.columns.isin(['TransactionID', 'TransactionDate'])]\n",
        "print(subset_columns)"
      ],
      "metadata": {
        "colab": {
          "base_uri": "https://localhost:8080/"
        },
        "id": "cRYvuQQT7VYL",
        "outputId": "593d91d9-c8e7-4120-9c4b-3504ed549aa9"
      },
      "execution_count": 9,
      "outputs": [
        {
          "output_type": "stream",
          "name": "stdout",
          "text": [
            "   TransactionID TransactionDate\n",
            "0              1      2010-08-21\n",
            "1              2      2011-05-26\n",
            "2              3      2011-06-16\n",
            "3              4      2012-08-26\n",
            "4              5      2013-06-06\n",
            "5              6      2013-12-23\n",
            "6              7      2013-12-30\n",
            "7              8      2014-04-24\n",
            "8              9      2015-04-24\n",
            "9             10      2016-05-08\n"
          ]
        }
      ]
    },
    {
      "cell_type": "code",
      "source": [
        "#33. Subset columns by a variable list of column names\n",
        "sel=['TransactionID','UserID']\n",
        "ss=df[sel]\n",
        "print(ss)"
      ],
      "metadata": {
        "colab": {
          "base_uri": "https://localhost:8080/"
        },
        "id": "5tXVdy1y8GrO",
        "outputId": "49a020d2-9e19-4f38-b695-e4ecb86146f1"
      },
      "execution_count": 10,
      "outputs": [
        {
          "output_type": "stream",
          "name": "stdout",
          "text": [
            "   TransactionID  UserID\n",
            "0              1     7.0\n",
            "1              2     3.0\n",
            "2              3     3.0\n",
            "3              4     1.0\n",
            "4              5     2.0\n",
            "5              6     2.0\n",
            "6              7     3.0\n",
            "7              8     NaN\n",
            "8              9     7.0\n",
            "9             10     3.0\n"
          ]
        }
      ]
    },
    {
      "cell_type": "code",
      "source": [
        "#34. Subset columns excluding a variable list of column names\n",
        "sel=['TransactionID','UserID']\n",
        "ss=df.drop(columns=sel)\n",
        "print(ss)\n"
      ],
      "metadata": {
        "colab": {
          "base_uri": "https://localhost:8080/"
        },
        "id": "tS49lsKc8njV",
        "outputId": "3911a55e-e622-4ee3-e525-53086591c87c"
      },
      "execution_count": 12,
      "outputs": [
        {
          "output_type": "stream",
          "name": "stdout",
          "text": [
            "  TransactionDate  ProductID  Quantity\n",
            "0      2010-08-21          2         1\n",
            "1      2011-05-26          4         1\n",
            "2      2011-06-16          3         1\n",
            "3      2012-08-26          2         3\n",
            "4      2013-06-06          4         1\n",
            "5      2013-12-23          5         6\n",
            "6      2013-12-30          4         1\n",
            "7      2014-04-24          2         3\n",
            "8      2015-04-24          4         3\n",
            "9      2016-05-08          4         4\n"
          ]
        }
      ]
    },
    {
      "cell_type": "code",
      "source": [
        "#35. Inserting and updating values\n",
        "print(df)\n",
        "df.loc[len(df)] = [3, '2012-08-26', 5.0, 2, 1]\n",
        "df.loc[df['UserID'] == 2, 'Quantity'] = 10\n",
        "print(df)"
      ],
      "metadata": {
        "colab": {
          "base_uri": "https://localhost:8080/"
        },
        "id": "jo44A8ZE9UUQ",
        "outputId": "03c94fb5-27c6-490d-fcc8-5c54f6e48e40"
      },
      "execution_count": 18,
      "outputs": [
        {
          "output_type": "stream",
          "name": "stdout",
          "text": [
            "    TransactionID TransactionDate  UserID  ProductID  Quantity\n",
            "0               1      2010-08-21     7.0          2         1\n",
            "1               2      2011-05-26     3.0          4         1\n",
            "2               3      2011-06-16     3.0          3         1\n",
            "3               4      2012-08-26     1.0          2         3\n",
            "4               5      2013-06-06     2.0          4         1\n",
            "5               6      2013-12-23     2.0          5         6\n",
            "6               7      2013-12-30     3.0          4         1\n",
            "7               8      2014-04-24     NaN          2         3\n",
            "8               9      2015-04-24     7.0          4         3\n",
            "9              10      2016-05-08     3.0          4         4\n",
            "10              3      2012-08-26     5.0          2         1\n",
            "11              3      2012-08-26     5.0          2         1\n",
            "    TransactionID TransactionDate  UserID  ProductID  Quantity\n",
            "0               1      2010-08-21     7.0          2         1\n",
            "1               2      2011-05-26     3.0          4         1\n",
            "2               3      2011-06-16     3.0          3         1\n",
            "3               4      2012-08-26     1.0          2         3\n",
            "4               5      2013-06-06     2.0          4        10\n",
            "5               6      2013-12-23     2.0          5        10\n",
            "6               7      2013-12-30     3.0          4         1\n",
            "7               8      2014-04-24     NaN          2         3\n",
            "8               9      2015-04-24     7.0          4         3\n",
            "9              10      2016-05-08     3.0          4         4\n",
            "10              3      2012-08-26     5.0          2         1\n",
            "11              3      2012-08-26     5.0          2         1\n",
            "12              3      2012-08-26     5.0          2         1\n"
          ]
        }
      ]
    },
    {
      "cell_type": "code",
      "source": [
        "#36. Convert the TransactionDate column to type Date\n",
        "df['TransactionDate'] = pd.to_datetime(df['TransactionDate'])\n",
        "print(df)"
      ],
      "metadata": {
        "colab": {
          "base_uri": "https://localhost:8080/"
        },
        "id": "DcGqXLJq_R9p",
        "outputId": "27e2eec6-2458-41e9-ae9d-7194fa9b622f"
      },
      "execution_count": 19,
      "outputs": [
        {
          "output_type": "stream",
          "name": "stdout",
          "text": [
            "    TransactionID TransactionDate  UserID  ProductID  Quantity\n",
            "0               1      2010-08-21     7.0          2         1\n",
            "1               2      2011-05-26     3.0          4         1\n",
            "2               3      2011-06-16     3.0          3         1\n",
            "3               4      2012-08-26     1.0          2         3\n",
            "4               5      2013-06-06     2.0          4        10\n",
            "5               6      2013-12-23     2.0          5        10\n",
            "6               7      2013-12-30     3.0          4         1\n",
            "7               8      2014-04-24     NaN          2         3\n",
            "8               9      2015-04-24     7.0          4         3\n",
            "9              10      2016-05-08     3.0          4         4\n",
            "10              3      2012-08-26     5.0          2         1\n",
            "11              3      2012-08-26     5.0          2         1\n",
            "12              3      2012-08-26     5.0          2         1\n"
          ]
        }
      ]
    },
    {
      "cell_type": "code",
      "source": [
        "#37. Insert a new column, Foo=UserID+ProductID\n",
        "df['Foo'] = df['UserID'] + df['ProductID']\n",
        "print(df)"
      ],
      "metadata": {
        "colab": {
          "base_uri": "https://localhost:8080/"
        },
        "id": "Xi0ilx_b_yTm",
        "outputId": "1e5fb38e-913b-4874-cdfa-4aaef2286609"
      },
      "execution_count": 20,
      "outputs": [
        {
          "output_type": "stream",
          "name": "stdout",
          "text": [
            "    TransactionID TransactionDate  UserID  ProductID  Quantity   Foo\n",
            "0               1      2010-08-21     7.0          2         1   9.0\n",
            "1               2      2011-05-26     3.0          4         1   7.0\n",
            "2               3      2011-06-16     3.0          3         1   6.0\n",
            "3               4      2012-08-26     1.0          2         3   3.0\n",
            "4               5      2013-06-06     2.0          4        10   6.0\n",
            "5               6      2013-12-23     2.0          5        10   7.0\n",
            "6               7      2013-12-30     3.0          4         1   7.0\n",
            "7               8      2014-04-24     NaN          2         3   NaN\n",
            "8               9      2015-04-24     7.0          4         3  11.0\n",
            "9              10      2016-05-08     3.0          4         4   7.0\n",
            "10              3      2012-08-26     5.0          2         1   7.0\n",
            "11              3      2012-08-26     5.0          2         1   7.0\n",
            "12              3      2012-08-26     5.0          2         1   7.0\n"
          ]
        }
      ]
    }
  ],
  "metadata": {
    "kernelspec": {
      "display_name": "base",
      "language": "python",
      "name": "python3"
    },
    "language_info": {
      "codemirror_mode": {
        "name": "ipython",
        "version": 3
      },
      "file_extension": ".py",
      "mimetype": "text/x-python",
      "name": "python",
      "nbconvert_exporter": "python",
      "pygments_lexer": "ipython3",
      "version": "3.7.0"
    },
    "colab": {
      "provenance": []
    }
  },
  "nbformat": 4,
  "nbformat_minor": 0
}